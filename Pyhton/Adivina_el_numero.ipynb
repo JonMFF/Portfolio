{
 "cells": [
  {
   "cell_type": "code",
   "execution_count": null,
   "id": "35917ab6",
   "metadata": {},
   "outputs": [],
   "source": [
    "import random\n",
    "\n",
    "print(\"BIENVENIDO A ADIVINA EL NÚMERO\")\n",
    "print (\"Se ha generado un número entre 1 y 100. Intenta adivinarlo.\")\n",
    "aleatorio=int(random.randint(1,100))\n",
    "print(\"_________________________\")\n",
    "comprobador=\"s\"\n",
    "contador=1\n",
    "while comprobador==\"s\":\n",
    "    numero=int(input(\"¿Qué número quieres jugar?: \"))\n",
    "    if numero==aleatorio:\n",
    "        print(\"_________________________\")\n",
    "        print(\"¡¡ENHORABUENA!! HAS ACERTADO EL NÚMERO\")\n",
    "        print(\"Has necesito\", contador, \"intentos para adivinarlo\")\n",
    "    if numero>aleatorio:\n",
    "        print(\"_________________________\")\n",
    "        print(\"NO HAS ACERTADO. El número que has introducido es MAYOR que el que tienes que adivinar.\")\n",
    "        contador=contador+1\n",
    "        comprobador=input(\"¿Quiere volver a intentándolo. Introduzca 's' si quiere seguir: \")\n",
    "    if numero<aleatorio:\n",
    "        print(\"_________________________\")\n",
    "        print(\"NO HAS ACERTADO. El número que has introducido es MENOR que el que tienes que adivinar.\")\n",
    "        contador=contador+1\n",
    "        comprobador=input(\"¿Quiere volver a intentándolo. Introduzca 's' si quiere seguir: \")"
   ]
  }
 ],
 "metadata": {
  "kernelspec": {
   "display_name": "Python 3 (ipykernel)",
   "language": "python",
   "name": "python3"
  },
  "language_info": {
   "codemirror_mode": {
    "name": "ipython",
    "version": 3
   },
   "file_extension": ".py",
   "mimetype": "text/x-python",
   "name": "python",
   "nbconvert_exporter": "python",
   "pygments_lexer": "ipython3",
   "version": "3.9.12"
  }
 },
 "nbformat": 4,
 "nbformat_minor": 5
}
